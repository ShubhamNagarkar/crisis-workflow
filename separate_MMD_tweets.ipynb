{
 "cells": [
  {
   "cell_type": "code",
   "execution_count": 13,
   "id": "unable-crossing",
   "metadata": {},
   "outputs": [],
   "source": [
    "import pandas as pd\n",
    "import glob\n",
    "import os"
   ]
  },
  {
   "cell_type": "code",
   "execution_count": 14,
   "id": "brave-raising",
   "metadata": {},
   "outputs": [],
   "source": [
    "PATH_TO_ANNOTATIONS = r'CrisisMMD/annotations/'\n",
    "TWEETS = r'CrisisMMD/tweets/'\n",
    "ANNOTATION_FILES = glob.glob(PATH_TO_ANNOTATIONS + \"/*.tsv\")"
   ]
  },
  {
   "cell_type": "code",
   "execution_count": 15,
   "id": "mechanical-register",
   "metadata": {},
   "outputs": [],
   "source": [
    "def create_dics(path):\n",
    "    try:\n",
    "        os.mkdir(path)\n",
    "    except OSError:\n",
    "        print (\"Creation of the directory %s failed\" % path)\n",
    "    else:\n",
    "        print (\"Successfully created the directory %s\" % path)\n",
    "    return\n",
    "\n",
    "\n",
    "def save_tweets(dfs_inf, dfs_noninf):\n",
    "    \"\"\"\n",
    "    Saves informative and non-informative tweets separately\n",
    "    :return: None\n",
    "    \"\"\"\n",
    "    create_dics(TWEETS)\n",
    "    df_info = pd.concat([x for x in dfs_inf], axis=0)\n",
    "    df_info.to_csv(TWEETS+\"MMD_informative.csv\", index=False)\n",
    "    \n",
    "    df_noninfo = pd.concat([x for x in dfs_noninf], axis=0)\n",
    "    df_noninfo.to_csv(TWEETS+\"MMD_non_informative.csv\", index=False)\n",
    "    return\n",
    "    \n",
    "    \n",
    "def extract_tweets():\n",
    "    \"\"\"\n",
    "    Extract tweets from the dataset. Save the dataframes with inf and non-inf data\n",
    "    :return: None\n",
    "    \"\"\"\n",
    "    dfs_inf = []\n",
    "    dfs_noninf = []\n",
    "    keep_col = ['tweet_text']\n",
    "    for data in ANNOTATION_FILES:\n",
    "        df = pd.read_csv(data, sep='\\t', error_bad_lines=False)\n",
    "        # extract informative tweets with informative images\n",
    "        df_informative = df.loc[(df['text_info']==\"informative\") & (df['image_info']==\"informative\"),keep_col]\n",
    "        # extract non-informative tweets with non-informative images\n",
    "        df_non_informative = df.loc[(df['text_info']==\"not_informative\") & (df['image_info']==\"not_informative\"),keep_col]\n",
    "        dfs_inf.append(df_informative)\n",
    "        dfs_noninf.append(df_non_informative)\n",
    "    save_tweets(dfs_inf, dfs_noninf)\n",
    "    return\n"
   ]
  },
  {
   "cell_type": "code",
   "execution_count": 16,
   "id": "decreased-trigger",
   "metadata": {},
   "outputs": [
    {
     "name": "stdout",
     "output_type": "stream",
     "text": [
      "Successfully created the directory CrisisMMD/tweets/\n"
     ]
    }
   ],
   "source": [
    "if __name__ == '__main__':\n",
    "    try:\n",
    "        extract_tweets()\n",
    "    except Exception as e:\n",
    "        print(\"Exception occured::\\n\",e)"
   ]
  },
  {
   "cell_type": "code",
   "execution_count": null,
   "id": "reserved-senegal",
   "metadata": {},
   "outputs": [],
   "source": []
  }
 ],
 "metadata": {
  "kernelspec": {
   "display_name": "Python 3",
   "language": "python",
   "name": "python3"
  },
  "language_info": {
   "codemirror_mode": {
    "name": "ipython",
    "version": 3
   },
   "file_extension": ".py",
   "mimetype": "text/x-python",
   "name": "python",
   "nbconvert_exporter": "python",
   "pygments_lexer": "ipython3",
   "version": "3.6.8"
  }
 },
 "nbformat": 4,
 "nbformat_minor": 5
}
