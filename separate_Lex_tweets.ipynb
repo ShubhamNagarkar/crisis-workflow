{
 "cells": [
  {
   "cell_type": "code",
   "execution_count": 1,
   "id": "active-grain",
   "metadata": {},
   "outputs": [],
   "source": [
    "import os\n",
    "import pandas as pd\n",
    "import glob"
   ]
  },
  {
   "cell_type": "code",
   "execution_count": 2,
   "id": "immediate-queens",
   "metadata": {},
   "outputs": [],
   "source": [
    "PATH = r'CrisisLexT26/'\n",
    "TWEETS = r'CrisisLexT26/tweets/'\n",
    "\n",
    "def create_dics(path):\n",
    "    try:\n",
    "        os.mkdir(path)\n",
    "    except OSError:\n",
    "        print (\"Creation of the directory %s failed\" % path)\n",
    "    else:\n",
    "        print (\"Successfully created the directory %s\" % path)\n",
    "    return\n",
    "\n",
    "\n",
    "def save_tweets(dfs_inf, dfs_noninf):\n",
    "    \"\"\"\n",
    "    Saves informative and non-informative tweets separately\n",
    "    :return: None\n",
    "    \"\"\"\n",
    "    create_dics(TWEETS)\n",
    "    df_info = pd.concat([x for x in dfs_inf], axis=0)\n",
    "    df_info.rename(columns={' Tweet Text': 'tweet_text'}, inplace=True)\n",
    "    df_info.to_csv(TWEETS+\"Lex_informative.csv\", index=False)\n",
    "    \n",
    "    df_noninfo = pd.concat([x for x in dfs_noninf], axis=0)\n",
    "    df_noninfo.rename(columns={' Tweet Text': 'tweet_text'}, inplace=True)\n",
    "    df_noninfo.to_csv(TWEETS+\"Lex_non_informative.csv\", index=False)\n",
    "    return\n",
    "\n",
    "def extract_tweets():\n",
    "    dfs_inf = []\n",
    "    dfs_noninf = []\n",
    "    keep_col = [' Tweet Text']\n",
    "    for csvfile in glob.glob(f'{PATH}/*/**/*labeled.csv', recursive=True):\n",
    "        df = pd.read_csv(csvfile)\n",
    "        df_info = df.loc[(df[' Informativeness']== 'Related and informative'),keep_col]\n",
    "        df_noninfo = df.loc[(df[' Informativeness']== 'Related - but not informative'),keep_col]\n",
    "        dfs_inf.append(df_info)\n",
    "        dfs_noninf.append(df_noninfo)\n",
    "    save_tweets(dfs_inf, dfs_noninf)\n",
    "    return"
   ]
  },
  {
   "cell_type": "code",
   "execution_count": 3,
   "id": "challenging-treasurer",
   "metadata": {},
   "outputs": [
    {
     "name": "stdout",
     "output_type": "stream",
     "text": [
      "Creation of the directory CrisisLexT26/tweets/ failed\n"
     ]
    }
   ],
   "source": [
    "if __name__ == '__main__':\n",
    "    try:\n",
    "        extract_tweets()\n",
    "    except Exception as e:\n",
    "        print(\"Exception occured::\\n\",e)"
   ]
  },
  {
   "cell_type": "code",
   "execution_count": null,
   "id": "through-reproduction",
   "metadata": {},
   "outputs": [],
   "source": []
  }
 ],
 "metadata": {
  "kernelspec": {
   "display_name": "Python 3",
   "language": "python",
   "name": "python3"
  },
  "language_info": {
   "codemirror_mode": {
    "name": "ipython",
    "version": 3
   },
   "file_extension": ".py",
   "mimetype": "text/x-python",
   "name": "python",
   "nbconvert_exporter": "python",
   "pygments_lexer": "ipython3",
   "version": "3.6.8"
  }
 },
 "nbformat": 4,
 "nbformat_minor": 5
}
