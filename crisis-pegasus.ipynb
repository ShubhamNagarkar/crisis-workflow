{
 "cells": [
  {
   "cell_type": "code",
   "execution_count": 1,
   "id": "standing-supervision",
   "metadata": {},
   "outputs": [],
   "source": [
    "from Pegasus.api import * \n",
    "from pathlib import Path"
   ]
  },
  {
   "cell_type": "code",
   "execution_count": 2,
   "id": "laden-general",
   "metadata": {},
   "outputs": [],
   "source": [
    "PATHS = {\n",
    "            #'test1' : Path('.').resolve()/'test1.csv',\n",
    "            #'test2' : Path('.').resolve()/'test2.csv'\n",
    "            'MMD_INFO' : Path('.').resolve()/\"CrisisMMD/tweets/MMD_informative.csv\",\n",
    "            'MMD_NONINFO' : Path('.').resolve()/\"CrisisMMD/tweets/MMD_non_informative.csv\",\n",
    "            'LEX_INFO' : Path('.').resolve()/\"CrisisLexT26/tweets/Lex_informative.csv\",\n",
    "            'LEX_NONINFO' : Path('.').resolve()/\"CrisisLexT26/tweets/Lex_non_informative.csv\"\n",
    "        }\n",
    "\n",
    "input_files = {}\n",
    "output_files = {}\n",
    "jobs = {}"
   ]
  },
  {
   "cell_type": "code",
   "execution_count": 3,
   "id": "occupational-joint",
   "metadata": {},
   "outputs": [],
   "source": [
    "rc = ReplicaCatalog()\n",
    "for key, csv in PATHS.items():\n",
    "    name = str(csv).split(\"/\")[-1]\n",
    "    input_files[key] = [File(name), name]\n",
    "    rc.add_replica(\"local\", input_files[key][0], csv)\n",
    "\n",
    "rc.write()"
   ]
  },
  {
   "cell_type": "code",
   "execution_count": 4,
   "id": "impressed-montgomery",
   "metadata": {},
   "outputs": [],
   "source": [
    "tc = TransformationCatalog()\n",
    "\n",
    "preprocess = Transformation(\n",
    "                \"preprocess\",\n",
    "                site=\"local\",\n",
    "                pfn=\"/home/scitech/shared-data/crisis-workflow/preprocess.py\",\n",
    "                is_stageable=True\n",
    ")\n",
    "\n",
    "tc.add_transformations(preprocess)\n",
    "tc.write()"
   ]
  },
  {
   "cell_type": "code",
   "execution_count": 5,
   "id": "mighty-labor",
   "metadata": {},
   "outputs": [
    {
     "data": {
      "text/plain": [
       "<Pegasus.api.workflow.Workflow at 0x7f1adc0bcfd0>"
      ]
     },
     "execution_count": 5,
     "metadata": {},
     "output_type": "execute_result"
    }
   ],
   "source": [
    "wf = Workflow(\"pipeline\")\n",
    "\n",
    "for k, v in input_files.items():\n",
    "    output_files[k] = File(\"processed_\"+v[1])\n",
    "    jobs[\"Job_\"+k] = Job(\"preprocess\")\\\n",
    "                        .add_args('--i', v[0], '--o', output_files[k])\\\n",
    "                        .add_inputs(v[0])\\\n",
    "                        .add_outputs(output_files[k])\n",
    "\n",
    "for k,v in jobs.items():\n",
    "    wf.add_jobs(v)\n",
    "wf.write()"
   ]
  },
  {
   "cell_type": "code",
   "execution_count": 6,
   "id": "graduate-tobacco",
   "metadata": {},
   "outputs": [
    {
     "name": "stderr",
     "output_type": "stream",
     "text": [
      "2021.02.07 08:33:29.276 UTC:\n",
      "2021.02.07 08:33:29.281 UTC:   -----------------------------------------------------------------------\n",
      "2021.02.07 08:33:29.287 UTC:   File for submitting this DAG to HTCondor           : pipeline-0.dag.condor.sub\n",
      "2021.02.07 08:33:29.292 UTC:   Log of DAGMan debugging messages                 : pipeline-0.dag.dagman.out\n",
      "2021.02.07 08:33:29.297 UTC:   Log of HTCondor library output                     : pipeline-0.dag.lib.out\n",
      "2021.02.07 08:33:29.303 UTC:   Log of HTCondor library error messages             : pipeline-0.dag.lib.err\n",
      "2021.02.07 08:33:29.308 UTC:   Log of the life of condor_dagman itself          : pipeline-0.dag.dagman.log\n",
      "2021.02.07 08:33:29.313 UTC:\n",
      "2021.02.07 08:33:29.318 UTC:   -no_submit given, not submitting DAG to HTCondor.  You can do this with:\n",
      "2021.02.07 08:33:29.329 UTC:   -----------------------------------------------------------------------\n",
      "2021.02.07 08:33:30.316 UTC:   Your database is compatible with Pegasus version: 5.1.0dev\n",
      "2021.02.07 08:33:35.838 UTC:   Created Pegasus database in: sqlite:////home/scitech/shared-data/crisis-workflow/scitech/pegasus/pipeline/run0006/pipeline-0.replicas.db\n",
      "2021.02.07 08:33:35.843 UTC:   Your database is compatible with Pegasus version: 5.1.0dev\n",
      "2021.02.07 08:33:35.928 UTC:   Output replica catalog set to jdbc:sqlite:/home/scitech/shared-data/crisis-workflow/scitech/pegasus/pipeline/run0006/pipeline-0.replicas.db\n",
      "[WARNING]  Submitting to condor pipeline-0.dag.condor.sub\n",
      "2021.02.07 08:33:36.843 UTC:   Time taken to execute is 8.237 seconds\n"
     ]
    },
    {
     "name": "stdout",
     "output_type": "stream",
     "text": [
      "[\u001b[1;32m####################################\u001b[0m] 100.0% ..Success (\u001b[1;32mCompleted: 12\u001b[0m, \u001b[1;33mQueued: 0\u001b[0m, \u001b[1;36mRunning: 0\u001b[0m, \u001b[1;31mFailed: 0\u001b[0m)\n"
     ]
    }
   ],
   "source": [
    "try:\n",
    "    wf.plan(submit=True)\\\n",
    "        .wait()\n",
    "except PegasusClientError as e:\n",
    "    print(e)"
   ]
  },
  {
   "cell_type": "code",
   "execution_count": null,
   "id": "comic-living",
   "metadata": {},
   "outputs": [],
   "source": []
  },
  {
   "cell_type": "code",
   "execution_count": null,
   "id": "egyptian-davis",
   "metadata": {},
   "outputs": [],
   "source": []
  },
  {
   "cell_type": "code",
   "execution_count": null,
   "id": "thorough-movement",
   "metadata": {},
   "outputs": [],
   "source": []
  }
 ],
 "metadata": {
  "kernelspec": {
   "display_name": "Python 3",
   "language": "python",
   "name": "python3"
  },
  "language_info": {
   "codemirror_mode": {
    "name": "ipython",
    "version": 3
   },
   "file_extension": ".py",
   "mimetype": "text/x-python",
   "name": "python",
   "nbconvert_exporter": "python",
   "pygments_lexer": "ipython3",
   "version": "3.6.8"
  }
 },
 "nbformat": 4,
 "nbformat_minor": 5
}
